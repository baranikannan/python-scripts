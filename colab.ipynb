{
  "nbformat": 4,
  "nbformat_minor": 0,
  "metadata": {
    "colab": {
      "name": "Untitled2.ipynb",
      "provenance": [],
      "collapsed_sections": [],
      "authorship_tag": "ABX9TyNh+xTK+NwMc+TPFyKKa8Qu",
      "include_colab_link": true
    },
    "kernelspec": {
      "name": "python3",
      "display_name": "Python 3"
    },
    "accelerator": "GPU"
  },
  "cells": [
    {
      "cell_type": "markdown",
      "metadata": {
        "id": "view-in-github",
        "colab_type": "text"
      },
      "source": [
        "<a href=\"https://colab.research.google.com/github/baranikannan/python-scripts/blob/master/colab.ipynb\" target=\"_parent\"><img src=\"https://colab.research.google.com/assets/colab-badge.svg\" alt=\"Open In Colab\"/></a>"
      ]
    },
    {
      "cell_type": "code",
      "metadata": {
        "id": "mqnBoY0Vargk",
        "colab_type": "code",
        "colab": {}
      },
      "source": [
        "# Install useful stuff\n",
        "! apt install --yes ssh screen nano htop ranger git > /dev/null\n",
        "# SSH setting\n",
        "! echo \"root:carbonara\" | chpasswd\n",
        "! echo \"PasswordAuthentication yes\" > /etc/ssh/sshd_config\n",
        "! echo \"PermitUserEnvironment yes\" >> /etc/ssh/sshd_config\n",
        "! echo \"PermitRootLogin yes\" >> /etc/ssh/sshd_config\n",
        "! service ssh restart > /dev/null\n",
        "# Download ngrok\n",
        "! wget -q -c -nc https://bin.equinox.io/c/4VmDzA7iaHb/ngrok-stable-linux-amd64.zip\n",
        "! unzip -qq -n ngrok-stable-linux-amd64.zip\n",
        "! mkdir ~/.ssh\n",
        "! echo \"ssh-rsa AAAAB3NzaC1yc2EAAAADAQABAAACAQDFREI5+XPdlcA+Rd+YG4a6vQTFu3ltXdo//tQP/R3b3sXnGEKOfhoYjOug7ubC0VQ7IaA8pZ/rt3uB/ACPqTSjIdL02B8c8//BoPKhv8XSTiW+9WWAH4EtWoFav4TPn1GMGes+AvwiDzv5YXqxkHYXaiK3Dgai76wKQJQ9SBp2zbHEC+O2B0Yi9j0hz9DOFWiNpLMqb2EbhA5pexGN0isQtyKm2UnVS0vh5YnTSRb5eRItD6QqGSXmbsNr7tAYqjgAPW9ZK1mdxu0xMTIq/cZycIFvkQzPDA44AUU1bzFQZMT3lF74HptO7Ns4lrdaUKys25+jECbLqQIml0O9olSGue+gsz6LBj3lPxwpKy2+xWirf9TFs32la2f8nRAxRPtxJnP5TNiMpRhe2epR1NsGRQEhIhZMWSfQFUBGLeei1mYYVnNN5St+6uGpFvFOoJmgJycazB7ijd641l4V9BXFPi8+v8WAvSkjIjONlBfjLXLFmZ3JZ0aySVB5w1kY+H3+FOs5PqYa/lD/pw2XCsrjtyn7u+xw/xJ3cwFPMHBDHi5KGeLcSIG0BA/7Tm0iD5JNj4QLQXMPDE+zZaENNnrFPL7Ol+9RWxsdTBEuzkYfUGigIP7h0JU69pmZnbEBfXKzoFZ4rODunFzyKD6yXkPmPhI0t7LSRj2ixfT5op1MEw== root\" > ~/.ssh/authorized_keys\n",
        "# Run ngrok\n",
        "authtoken = \"1gcFLfMkbyET2nEzOKYXtMXZl4i_5yatQm6Zzvcegoh7MpMBG\"\n",
        "get_ipython().system_raw('./ngrok authtoken $authtoken && ./ngrok tcp 22 &')\n",
        "! sleep 3\n",
        "# Get the address for SSH\n",
        "import requests\n",
        "from re import sub\n",
        "r = requests.get('http://localhost:4040/api/tunnels')\n",
        "str_ssh = r.json()['tunnels'][0]['public_url']\n",
        "str_ssh = sub(\"tcp://\", \"\", str_ssh)\n",
        "str_ssh = sub(\":\", \" -p \", str_ssh)\n",
        "str_ssh = \"ssh root@\" + str_ssh\n",
        "print(str_ssh)"
      ],
      "execution_count": null,
      "outputs": []
    },
    {
      "cell_type": "code",
      "metadata": {
        "id": "Le3dTSw4a0GU",
        "colab_type": "code",
        "colab": {}
      },
      "source": [
        "import time\n",
        "import sys\n",
        "for i in range(20000):\n",
        "    time.sleep(0.5)\n",
        "    print(f\"\\rNumber {i}\",end=\"\")\n",
        "    sys.stdout.flush()"
      ],
      "execution_count": null,
      "outputs": []
    },
    {
      "cell_type": "code",
      "metadata": {
        "id": "Rx9wOf1SuHR2",
        "colab_type": "code",
        "colab": {
          "base_uri": "https://localhost:8080/",
          "height": 51
        },
        "outputId": "6fc77c05-3b4d-4849-d56c-c099d8a21ab1"
      },
      "source": [
        "!ps auxwww | grep ngrok"
      ],
      "execution_count": 37,
      "outputs": [
        {
          "output_type": "stream",
          "text": [
            "root        3147  0.0  0.0  39192  6540 ?        S    07:58   0:00 /bin/bash -c ps auxwww | grep ngrok\n",
            "root        3149  0.0  0.0  25668  1104 ?        R    07:58   0:00 grep ngrok\n"
          ],
          "name": "stdout"
        }
      ]
    },
    {
      "cell_type": "code",
      "metadata": {
        "id": "teSBC_J10XY5",
        "colab_type": "code",
        "colab": {
          "base_uri": "https://localhost:8080/",
          "height": 204
        },
        "outputId": "801a7659-f52a-4a68-e87b-17b0b439ac5f"
      },
      "source": [
        "!netstat -tnap | grep -i listen"
      ],
      "execution_count": 38,
      "outputs": [
        {
          "output_type": "stream",
          "text": [
            "tcp        0      0 172.28.0.2:9000         0.0.0.0:*               LISTEN      25/python2          \n",
            "tcp        0      0 127.0.0.1:45387         0.0.0.0:*               LISTEN      102/python3         \n",
            "tcp        0      0 127.0.0.1:52175         0.0.0.0:*               LISTEN      102/python3         \n",
            "tcp        0      0 127.0.0.1:39985         0.0.0.0:*               LISTEN      102/python3         \n",
            "tcp        0      0 127.0.0.11:38353        0.0.0.0:*               LISTEN      -                   \n",
            "tcp        0      0 0.0.0.0:22              0.0.0.0:*               LISTEN      3113/sshd           \n",
            "tcp        0      0 127.0.0.1:50327         0.0.0.0:*               LISTEN      102/python3         \n",
            "tcp        0      0 127.0.0.1:54807         0.0.0.0:*               LISTEN      102/python3         \n",
            "tcp        0      0 127.0.0.1:51769         0.0.0.0:*               LISTEN      102/python3         \n",
            "tcp6       0      0 :::8080                 :::*                    LISTEN      8/node              \n",
            "tcp6       0      0 :::22                   :::*                    LISTEN      3113/sshd           \n"
          ],
          "name": "stdout"
        }
      ]
    },
    {
      "cell_type": "code",
      "metadata": {
        "id": "a2m0lvQl0crV",
        "colab_type": "code",
        "colab": {
          "base_uri": "https://localhost:8080/",
          "height": 68
        },
        "outputId": "0c656abe-b275-4ea7-f98e-15707b7c7cec"
      },
      "source": [
        "!shutdown"
      ],
      "execution_count": 40,
      "outputs": [
        {
          "output_type": "stream",
          "text": [
            "System has not been booted with systemd as init system (PID 1). Can't operate.\n",
            "System has not been booted with systemd as init system (PID 1). Can't operate.\n",
            "Failed to talk to init daemon.\n"
          ],
          "name": "stdout"
        }
      ]
    },
    {
      "cell_type": "code",
      "metadata": {
        "id": "k2MgASDr0gtB",
        "colab_type": "code",
        "colab": {}
      },
      "source": [
        "!apt update"
      ],
      "execution_count": null,
      "outputs": []
    },
    {
      "cell_type": "code",
      "metadata": {
        "id": "BieA0aoC0i4z",
        "colab_type": "code",
        "colab": {}
      },
      "source": [
        ""
      ],
      "execution_count": null,
      "outputs": []
    }
  ]
}